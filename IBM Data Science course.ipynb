{
  "metadata": {
    "kernelspec": {
      "name": "python",
      "display_name": "Pyolite",
      "language": "python"
    },
    "language_info": {
      "codemirror_mode": {
        "name": "python",
        "version": 3
      },
      "file_extension": ".py",
      "mimetype": "text/x-python",
      "name": "python",
      "nbconvert_exporter": "python",
      "pygments_lexer": "ipython3",
      "version": "3.8"
    }
  },
  "nbformat_minor": 4,
  "nbformat": 4,
  "cells": [
    {
      "cell_type": "markdown",
      "source": "<center>\n    <img src=\"https://s3-api.us-geo.objectstorage.softlayer.net/cf-courses-data/CognitiveClass/Logos/organization_logo/organization_logo.png\" width=\"300\" alt=\"cognitiveclass.ai logo\"  />\n</center>\n",
      "metadata": {}
    },
    {
      "cell_type": "markdown",
      "source": "#### Add your code below following the instructions given in the course\n",
      "metadata": {}
    },
    {
      "cell_type": "markdown",
      "source": "# \"My Jupyter Notebook on IBM Watson Studio\"\n",
      "metadata": {}
    },
    {
      "cell_type": "markdown",
      "source": "## \"**Lara Johnson**\"\n## \"Data Scientist\"",
      "metadata": {
        "tags": []
      }
    },
    {
      "cell_type": "markdown",
      "source": "## \"*I'm interested in data science because I enjoy analysis and problem-solving.*\"",
      "metadata": {}
    },
    {
      "cell_type": "markdown",
      "source": "### \"My code in the next cell is to print 'hello world'\"",
      "metadata": {
        "tags": []
      }
    },
    {
      "cell_type": "code",
      "source": "print('hello world')",
      "metadata": {
        "trusted": true
      },
      "execution_count": 10,
      "outputs": [
        {
          "name": "stdout",
          "text": "hello world\n",
          "output_type": "stream"
        }
      ]
    },
    {
      "cell_type": "markdown",
      "source": "__[Link to Google](\"https://wwww.google.com\")__ \n\n<ul>\n<li>Data</li>\n<li>Science</li>\n<li>Class</li>\n</ul>\n\n\n<ol>\n<li>Data</li>\n<li>Science</li>\n<li>Class</li>\n</ol>\n\n~~Scratch this~~\n\n***",
      "metadata": {
        "tags": []
      }
    }
  ]
}